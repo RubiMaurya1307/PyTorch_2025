{
  "nbformat": 4,
  "nbformat_minor": 0,
  "metadata": {
    "colab": {
      "provenance": [],
      "authorship_tag": "ABX9TyMuntiQAMoQ/92iIWWxJljE",
      "include_colab_link": true
    },
    "kernelspec": {
      "name": "python3",
      "display_name": "Python 3"
    },
    "language_info": {
      "name": "python"
    }
  },
  "cells": [
    {
      "cell_type": "markdown",
      "metadata": {
        "id": "view-in-github",
        "colab_type": "text"
      },
      "source": [
        "<a href=\"https://colab.research.google.com/github/RubiMaurya1307/PyTorch_2025/blob/main/Pytorch_5.ipynb\" target=\"_parent\"><img src=\"https://colab.research.google.com/assets/colab-badge.svg\" alt=\"Open In Colab\"/></a>"
      ]
    },
    {
      "cell_type": "markdown",
      "source": [
        "# Simple Neural Network"
      ],
      "metadata": {
        "id": "Bap6mXVWN5mS"
      }
    },
    {
      "cell_type": "code",
      "source": [],
      "metadata": {
        "id": "3gMmiEUKN_V1"
      },
      "execution_count": null,
      "outputs": []
    }
  ]
}